{
 "cells": [
  {
   "cell_type": "code",
   "execution_count": 1,
   "id": "2a465362-103d-4ed3-8a31-a2f402457067",
   "metadata": {},
   "outputs": [],
   "source": [
    "import cv2\n",
    "import numpy as np\n",
    "import os\n",
    "import matplotlib.pyplot as plt\n",
    "from skimage import measure, draw\n",
    "from scipy import ndimage as ndi\n",
    "import csv\n",
    "from IPython import display\n",
    "from IPython.display import clear_output\n",
    "import keyboard\n",
    "import pandas as pd\n",
    "import random"
   ]
  },
  {
   "cell_type": "code",
   "execution_count": 2,
   "id": "396fb8e9-2aef-4f41-b0cb-09660c978a3b",
   "metadata": {},
   "outputs": [],
   "source": [
    "TBacBin = r'tomato/train/Tomato___Bacterial_spot_bin/'\n",
    "TBacCol = r'Tomato diseases/train/Tomato___Bacterial_spot/'\n",
    "VBacBin = r'tomato/valid/Tomato___Bacterial_spot_bin/'\n",
    "VBacCol = r'Tomato diseases/valid/Tomato___Bacterial_spot/'\n",
    "\n",
    "TEarBin = r'tomato/train/Tomato___Early_blight_bin/'\n",
    "TEarCol = r'Tomato diseases/train/Tomato___Early_blight/'\n",
    "VEarBin = r'tomato/valid/Tomato___Early_blight_bin/'\n",
    "VEarCol = r'Tomato diseases/valid/Tomato___Early_blight/'\n",
    "\n",
    "THeaBin = r'tomato/train/Tomato___healthy_bin/'\n",
    "THeaCol = r'Tomato diseases/train/Tomato___healthy/'\n",
    "VHeaBin = r'tomato/valid/Tomato___healthy_bin/'\n",
    "VHeaCol = r'Tomato diseases/valid/Tomato___healthy/'\n",
    "\n",
    "TLatBin = r'tomato/train/Tomato___Late_blight_bin/'\n",
    "TLatCol = r'Tomato diseases/train/Tomato___Late_blight/'\n",
    "VLatBin = r'tomato/valid/Tomato___Late_blight_bin/'\n",
    "VLatCol = r'Tomato diseases/valid/Tomato___Late_blight/'\n",
    "\n",
    "TLeaBin = r'tomato/train/Tomato___Leaf_Mold_bin/'\n",
    "TLeaCol = r'Tomato diseases/train/Tomato___Leaf_Mold/'\n",
    "VLeaBin = r'tomato/valid/Tomato___Leaf_Mold_bin/'\n",
    "VLeaCol = r'Tomato diseases/valid/Tomato___Leaf_Mold/'\n",
    "\n",
    "TSepBin = r'tomato/train/Tomato___Septoria_leaf_spot_bin/'\n",
    "TSepCol = r'Tomato diseases/train/Tomato___Septoria_leaf_spot/'\n",
    "VSepBin = r'tomato/valid/Tomato___Septoria_leaf_spot_bin/'\n",
    "VSepCol = r'Tomato diseases/valid/Tomato___Septoria_leaf_spot/'\n",
    "\n",
    "TSpiBin = r'tomato/train/Tomato___Spider_mites Two-spotted_spider_mite_bin/'\n",
    "TSipCol = r'Tomato diseases/train/Tomato___Spider_mites Two-spotted_spider_mite/'\n",
    "VSpiBin = r'tomato/valid/Tomato___Spider_mites Two-spotted_spider_mite_bin/'\n",
    "VSipCol = r'Tomato diseases/valid/Tomato___Spider_mites Two-spotted_spider_mite/'\n",
    "\n",
    "TTarBin = r'tomato/train/Tomato___Target_Spot_bin/'\n",
    "TTarCol = r'Tomato diseases/train/Tomato___Target_Spot/'\n",
    "VTarBin = r'tomato/valid/Tomato___Target_Spot_bin/'\n",
    "VTarCol = r'Tomato diseases/valid/Tomato___Target_Spot/'\n",
    "\n",
    "TMosBin = r'tomato/train/Tomato___Tomato_mosaic_virus_bin/'\n",
    "TMosCol = r'Tomato diseases/train/Tomato___Tomato_mosaic_virus/'\n",
    "VMosBin = r'tomato/valid/Tomato___Tomato_mosaic_virus_bin/'\n",
    "VMosCol = r'Tomato diseases/valid/Tomato___Tomato_mosaic_virus/'\n",
    "\n",
    "TYelBin = r'tomato/train/Tomato___Tomato_Yellow_Leaf_Curl_Virus_bin/'\n",
    "TYelCol = r'Tomato diseases/train/Tomato___Tomato_Yellow_Leaf_Curl_Virus/'\n",
    "VYelBin = r'tomato/valid/Tomato___Tomato_Yellow_Leaf_Curl_Virus_bin/'\n",
    "VYelCol = r'Tomato diseases/valid/Tomato___Tomato_Yellow_Leaf_Curl_Virus/'\n",
    "\n",
    "input_directory = TYelBin #ruta para las máscaras de la clase a evaluar\n",
    "input_directory2 = TYelCol #ruta para las imágenes de la clase a evaluar"
   ]
  },
  {
   "cell_type": "code",
   "execution_count": 3,
   "id": "ab123cd8-9cd4-40f7-ad99-6a09ea941573",
   "metadata": {},
   "outputs": [],
   "source": [
    "files= os.listdir(input_directory)\n",
    "\n",
    "lista=[]\n",
    "for i in range (len(files)):\n",
    "    image = cv2.imread(input_directory+files[i],cv2.IMREAD_GRAYSCALE)\n",
    "    imagec = cv2.imread(input_directory2+files[i][:-3]+'png',cv2.COLOR_BGR2RGB)\n",
    "    imagec  = cv2.cvtColor(imagec , cv2.COLOR_BGR2RGB)\n",
    "    \n",
    "    _, mask = cv2.threshold(image, 0, 255, cv2.THRESH_BINARY)\n",
    "    contours= measure.find_contours(mask, 0.9, fully_connected='high',\n",
    "                                     positive_orientation='low')\n",
    "    \n",
    "    \n",
    "    #contornos en hojas\n",
    "    for n, contour in enumerate(contours):\n",
    "        x=contour[:, 0].astype(int)\n",
    "        y=contour[:, 1].astype(int)\n",
    "        imagec[x, y,0]=0\n",
    "        imagec[x, y,1]=0\n",
    "        imagec[x, y,2]=255\n",
    "        \n",
    "        num = random.randint(1, 9)\n",
    "        n=str(num)\n",
    "        lista.append(num)\n",
    "        fondo = cv2.imread('fondos/fondo'+n+'.png',cv2.COLOR_BGR2RGB) #selección de fondo\n",
    "        fondo  = cv2.cvtColor(fondo , cv2.COLOR_BGR2RGB)\n",
    "        fondo = cv2.resize(fondo , (300, 300)) #re escalado\n",
    "\n",
    "        imagecc = cv2.imread(input_directory2+files[i][:-3]+'png')\n",
    "\n",
    "        cy,cx,ch=fondo.shape\n",
    "\n",
    "        h=0\n",
    "        for h in range(mask.shape[0]):\n",
    "            for j in range(mask.shape[1]):\n",
    "                if mask[h,j]==0:\n",
    "                    imagecc[h, j,2]=fondo[h, j,0]\n",
    "                    imagecc[h, j,1]=fondo[h, j,1]\n",
    "                    imagecc[h, j,0]=fondo[h, j,2]\n",
    "                    \n",
    "        ima= cv2.resize(imagecc , (224, 224))\n",
    "        cv2.imwrite('Tomato background/train/Tomato___Tomato_Yellow_Leaf_Curl_Virus/'+\"%06.f\"%i+'.png', ima) #se agrega el fondo complejo\n",
    "      "
   ]
  },
  {
   "cell_type": "code",
   "execution_count": 7,
   "id": "05447c89-c1ca-41c0-8bf2-da7be293f79d",
   "metadata": {},
   "outputs": [
    {
     "data": {
      "text/plain": [
       "(array([208., 257., 249., 227., 219., 220., 234., 267., 269.]),\n",
       " array([1.        , 1.88888889, 2.77777778, 3.66666667, 4.55555556,\n",
       "        5.44444444, 6.33333333, 7.22222222, 8.11111111, 9.        ]),\n",
       " <BarContainer object of 9 artists>)"
      ]
     },
     "execution_count": 7,
     "metadata": {},
     "output_type": "execute_result"
    },
    {
     "data": {
      "image/png": "[encoded data removed]",
      "text/plain": [
       "<Figure size 640x480 with 1 Axes>"
      ]
     },
     "metadata": {},
     "output_type": "display_data"
    }
   ],
   "source": [
    "plt.hist(lista, 9) #histograma del uso de cada fondo"
   ]
  }
 ],
 "metadata": {
  "kernelspec": {
   "display_name": "Python 3 (ipykernel)",
   "language": "python",
   "name": "python3"
  },
  "language_info": {
   "codemirror_mode": {
    "name": "ipython",
    "version": 3
   },
   "file_extension": ".py",
   "mimetype": "text/x-python",
   "name": "python",
   "nbconvert_exporter": "python",
   "pygments_lexer": "ipython3",
   "version": "3.9.15"
  }
 },
 "nbformat": 4,
 "nbformat_minor": 5
}
